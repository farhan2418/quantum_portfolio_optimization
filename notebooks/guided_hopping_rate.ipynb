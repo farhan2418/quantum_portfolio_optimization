{
 "cells": [
  {
   "cell_type": "code",
   "execution_count": 46,
   "id": "aae632bc",
   "metadata": {},
   "outputs": [
    {
     "name": "stdout",
     "output_type": "stream",
     "text": [
      "[0.599, 0.184, 0.871, 0.583, 0.89, 0.901]\n",
      "gamma: 60.25595860743578\n",
      "gamma: 37.868405964879415\n",
      "gamma: 25.137331596329297\n"
     ]
    }
   ],
   "source": [
    "import numpy as np\n",
    "import random\n",
    "\n",
    "from scipy.optimize import brentq\n",
    "\n",
    "def calc_gamma(t, T, lambda_vec: list | np.ndarray):\n",
    "    l1, l2, l3, l4, l5, l6 = lambda_vec\n",
    "    s = t/T\n",
    "\n",
    "    def _x_tau_minus_s(tau):\n",
    "        x_tau = 3* l1 *((1- tau)**2) * tau \\\n",
    "              + 3 *l3*(1- tau) * (tau**2) \\\n",
    "                  + tau**3 \n",
    "        return (x_tau - s)\n",
    "    \n",
    "    if s <= 0.0:\n",
    "        tau = 0.0\n",
    "    elif s >= 1.0:\n",
    "        tau = 1.0\n",
    "    else:\n",
    "        try:\n",
    "            tau = brentq(_x_tau_minus_s, 0.0, 1.0)\n",
    "        except ValueError:\n",
    "            tau = s\n",
    "    \n",
    "    y_tau = ((1 - tau)**3) + \\\n",
    "        (3 * l2 *   ((1- tau)**2) * tau) + \\\n",
    "            (3 * l4 * (1 - tau) * (tau**2)) \n",
    "\n",
    "    start_gamma = 10 ** (2.0 * l5)\n",
    "    end_gamma = 10 ** (-3.0 * l6)\n",
    "    # print(start_gamma, end_gamma)\n",
    "    gamma = y_tau * start_gamma + (1 - y_tau) * end_gamma\n",
    "\n",
    "    return gamma\n",
    "\n",
    "\n",
    "# k = [1, 2, 3]\n",
    "r = 3\n",
    "T = 10\n",
    "delta_t = T/r\n",
    "\n",
    "lambda_vec = [round(random.uniform(0, 1), 3) for i in range(4)] + [round(random.random(), 3) for _ in range(2)]\n",
    "\n",
    "print(lambda_vec)\n",
    "\n",
    "for k in range(r):\n",
    "    print('gamma:', calc_gamma(k * delta_t, T, lambda_vec))\n",
    "# lamda_vec = \n"
   ]
  },
  {
   "cell_type": "code",
   "execution_count": null,
   "id": "e73ed0d3",
   "metadata": {},
   "outputs": [],
   "source": []
  }
 ],
 "metadata": {
  "kernelspec": {
   "display_name": ".env",
   "language": "python",
   "name": "python3"
  },
  "language_info": {
   "codemirror_mode": {
    "name": "ipython",
    "version": 3
   },
   "file_extension": ".py",
   "mimetype": "text/x-python",
   "name": "python",
   "nbconvert_exporter": "python",
   "pygments_lexer": "ipython3",
   "version": "3.12.5"
  }
 },
 "nbformat": 4,
 "nbformat_minor": 5
}
